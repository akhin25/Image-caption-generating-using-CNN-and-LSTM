{
 "cells": [
  {
   "cell_type": "markdown",
   "metadata": {},
   "source": [
    "## Import Modules"
   ]
  },
  {
   "cell_type": "code",
   "execution_count": 1,
   "metadata": {
    "scrolled": true
   },
   "outputs": [],
   "source": [
    "import os\n",
    "import pickle\n",
    "import numpy as np\n",
    "from tqdm.notebook import tqdm\n",
    "from tensorflow.keras.applications.xception import Xception, preprocess_input\n",
    "#from tensorflow.keras.applications.vgg16 import VGG16, preprocess_input\n",
    "from tensorflow.keras.preprocessing.image import load_img, img_to_array\n",
    "from tensorflow.keras.preprocessing.text import Tokenizer\n",
    "from tensorflow.keras.preprocessing.sequence import pad_sequences\n",
    "from tensorflow.keras.models import Model\n",
    "from tensorflow.keras.utils import to_categorical, plot_model\n",
    "from tensorflow.keras.layers import Input, Dense, LSTM, Embedding, Dropout, add"
   ]
  },
  {
   "cell_type": "code",
   "execution_count": 2,
   "metadata": {
    "execution": {
     "iopub.execute_input": "2022-03-06T06:34:19.972539Z",
     "iopub.status.busy": "2022-03-06T06:34:19.972303Z",
     "iopub.status.idle": "2022-03-06T06:34:19.978812Z",
     "shell.execute_reply": "2022-03-06T06:34:19.977587Z",
     "shell.execute_reply.started": "2022-03-06T06:34:19.972501Z"
    }
   },
   "outputs": [],
   "source": [
    "BASE_DIR = '/home/sw900b2_arjun/final_project/'\n",
    "WORKING_DIR = '/home/sw900b2_arjun/final_project/'"
   ]
  },
  {
   "cell_type": "markdown",
   "metadata": {},
   "source": [
    "## Extract Image Features"
   ]
  },
  {
   "cell_type": "code",
   "execution_count": 3,
   "metadata": {
    "execution": {
     "iopub.execute_input": "2022-03-06T06:34:19.982304Z",
     "iopub.status.busy": "2022-03-06T06:34:19.982057Z",
     "iopub.status.idle": "2022-03-06T06:34:26.712594Z",
     "shell.execute_reply": "2022-03-06T06:34:26.711913Z",
     "shell.execute_reply.started": "2022-03-06T06:34:19.982271Z"
    }
   },
   "outputs": [
    {
     "name": "stdout",
     "output_type": "stream",
     "text": [
      "Downloading data from https://storage.googleapis.com/tensorflow/keras-applications/xception/xception_weights_tf_dim_ordering_tf_kernels.h5\n",
      "91884032/91884032 [==============================] - 58s 1us/step\n",
      "Model: \"model\"\n",
      "__________________________________________________________________________________________________\n",
      " Layer (type)                Output Shape                 Param #   Connected to                  \n",
      "==================================================================================================\n",
      " input_1 (InputLayer)        [(None, 299, 299, 3)]        0         []                            \n",
      "                                                                                                  \n",
      " block1_conv1 (Conv2D)       (None, 149, 149, 32)         864       ['input_1[0][0]']             \n",
      "                                                                                                  \n",
      " block1_conv1_bn (BatchNorm  (None, 149, 149, 32)         128       ['block1_conv1[0][0]']        \n",
      " alization)                                                                                       \n",
      "                                                                                                  \n",
      " block1_conv1_act (Activati  (None, 149, 149, 32)         0         ['block1_conv1_bn[0][0]']     \n",
      " on)                                                                                              \n",
      "                                                                                                  \n",
      " block1_conv2 (Conv2D)       (None, 147, 147, 64)         18432     ['block1_conv1_act[0][0]']    \n",
      "                                                                                                  \n",
      " block1_conv2_bn (BatchNorm  (None, 147, 147, 64)         256       ['block1_conv2[0][0]']        \n",
      " alization)                                                                                       \n",
      "                                                                                                  \n",
      " block1_conv2_act (Activati  (None, 147, 147, 64)         0         ['block1_conv2_bn[0][0]']     \n",
      " on)                                                                                              \n",
      "                                                                                                  \n",
      " block2_sepconv1 (Separable  (None, 147, 147, 128)        8768      ['block1_conv2_act[0][0]']    \n",
      " Conv2D)                                                                                          \n",
      "                                                                                                  \n",
      " block2_sepconv1_bn (BatchN  (None, 147, 147, 128)        512       ['block2_sepconv1[0][0]']     \n",
      " ormalization)                                                                                    \n",
      "                                                                                                  \n",
      " block2_sepconv2_act (Activ  (None, 147, 147, 128)        0         ['block2_sepconv1_bn[0][0]']  \n",
      " ation)                                                                                           \n",
      "                                                                                                  \n",
      " block2_sepconv2 (Separable  (None, 147, 147, 128)        17536     ['block2_sepconv2_act[0][0]'] \n",
      " Conv2D)                                                                                          \n",
      "                                                                                                  \n",
      " block2_sepconv2_bn (BatchN  (None, 147, 147, 128)        512       ['block2_sepconv2[0][0]']     \n",
      " ormalization)                                                                                    \n",
      "                                                                                                  \n",
      " conv2d (Conv2D)             (None, 74, 74, 128)          8192      ['block1_conv2_act[0][0]']    \n",
      "                                                                                                  \n",
      " block2_pool (MaxPooling2D)  (None, 74, 74, 128)          0         ['block2_sepconv2_bn[0][0]']  \n",
      "                                                                                                  \n",
      " batch_normalization (Batch  (None, 74, 74, 128)          512       ['conv2d[0][0]']              \n",
      " Normalization)                                                                                   \n",
      "                                                                                                  \n",
      " add (Add)                   (None, 74, 74, 128)          0         ['block2_pool[0][0]',         \n",
      "                                                                     'batch_normalization[0][0]'] \n",
      "                                                                                                  \n",
      " block3_sepconv1_act (Activ  (None, 74, 74, 128)          0         ['add[0][0]']                 \n",
      " ation)                                                                                           \n",
      "                                                                                                  \n",
      " block3_sepconv1 (Separable  (None, 74, 74, 256)          33920     ['block3_sepconv1_act[0][0]'] \n",
      " Conv2D)                                                                                          \n",
      "                                                                                                  \n",
      " block3_sepconv1_bn (BatchN  (None, 74, 74, 256)          1024      ['block3_sepconv1[0][0]']     \n",
      " ormalization)                                                                                    \n",
      "                                                                                                  \n",
      " block3_sepconv2_act (Activ  (None, 74, 74, 256)          0         ['block3_sepconv1_bn[0][0]']  \n",
      " ation)                                                                                           \n",
      "                                                                                                  \n",
      " block3_sepconv2 (Separable  (None, 74, 74, 256)          67840     ['block3_sepconv2_act[0][0]'] \n",
      " Conv2D)                                                                                          \n",
      "                                                                                                  \n",
      " block3_sepconv2_bn (BatchN  (None, 74, 74, 256)          1024      ['block3_sepconv2[0][0]']     \n",
      " ormalization)                                                                                    \n",
      "                                                                                                  \n",
      " conv2d_1 (Conv2D)           (None, 37, 37, 256)          32768     ['add[0][0]']                 \n",
      "                                                                                                  \n",
      " block3_pool (MaxPooling2D)  (None, 37, 37, 256)          0         ['block3_sepconv2_bn[0][0]']  \n",
      "                                                                                                  \n",
      " batch_normalization_1 (Bat  (None, 37, 37, 256)          1024      ['conv2d_1[0][0]']            \n",
      " chNormalization)                                                                                 \n",
      "                                                                                                  \n",
      " add_1 (Add)                 (None, 37, 37, 256)          0         ['block3_pool[0][0]',         \n",
      "                                                                     'batch_normalization_1[0][0]'\n",
      "                                                                    ]                             \n",
      "                                                                                                  \n",
      " block4_sepconv1_act (Activ  (None, 37, 37, 256)          0         ['add_1[0][0]']               \n",
      " ation)                                                                                           \n",
      "                                                                                                  \n",
      " block4_sepconv1 (Separable  (None, 37, 37, 728)          188672    ['block4_sepconv1_act[0][0]'] \n",
      " Conv2D)                                                                                          \n",
      "                                                                                                  \n"
     ]
    },
    {
     "name": "stdout",
     "output_type": "stream",
     "text": [
      " block4_sepconv1_bn (BatchN  (None, 37, 37, 728)          2912      ['block4_sepconv1[0][0]']     \n",
      " ormalization)                                                                                    \n",
      "                                                                                                  \n",
      " block4_sepconv2_act (Activ  (None, 37, 37, 728)          0         ['block4_sepconv1_bn[0][0]']  \n",
      " ation)                                                                                           \n",
      "                                                                                                  \n",
      " block4_sepconv2 (Separable  (None, 37, 37, 728)          536536    ['block4_sepconv2_act[0][0]'] \n",
      " Conv2D)                                                                                          \n",
      "                                                                                                  \n",
      " block4_sepconv2_bn (BatchN  (None, 37, 37, 728)          2912      ['block4_sepconv2[0][0]']     \n",
      " ormalization)                                                                                    \n",
      "                                                                                                  \n",
      " conv2d_2 (Conv2D)           (None, 19, 19, 728)          186368    ['add_1[0][0]']               \n",
      "                                                                                                  \n",
      " block4_pool (MaxPooling2D)  (None, 19, 19, 728)          0         ['block4_sepconv2_bn[0][0]']  \n",
      "                                                                                                  \n",
      " batch_normalization_2 (Bat  (None, 19, 19, 728)          2912      ['conv2d_2[0][0]']            \n",
      " chNormalization)                                                                                 \n",
      "                                                                                                  \n",
      " add_2 (Add)                 (None, 19, 19, 728)          0         ['block4_pool[0][0]',         \n",
      "                                                                     'batch_normalization_2[0][0]'\n",
      "                                                                    ]                             \n",
      "                                                                                                  \n",
      " block5_sepconv1_act (Activ  (None, 19, 19, 728)          0         ['add_2[0][0]']               \n",
      " ation)                                                                                           \n",
      "                                                                                                  \n",
      " block5_sepconv1 (Separable  (None, 19, 19, 728)          536536    ['block5_sepconv1_act[0][0]'] \n",
      " Conv2D)                                                                                          \n",
      "                                                                                                  \n",
      " block5_sepconv1_bn (BatchN  (None, 19, 19, 728)          2912      ['block5_sepconv1[0][0]']     \n",
      " ormalization)                                                                                    \n",
      "                                                                                                  \n",
      " block5_sepconv2_act (Activ  (None, 19, 19, 728)          0         ['block5_sepconv1_bn[0][0]']  \n",
      " ation)                                                                                           \n",
      "                                                                                                  \n",
      " block5_sepconv2 (Separable  (None, 19, 19, 728)          536536    ['block5_sepconv2_act[0][0]'] \n",
      " Conv2D)                                                                                          \n",
      "                                                                                                  \n",
      " block5_sepconv2_bn (BatchN  (None, 19, 19, 728)          2912      ['block5_sepconv2[0][0]']     \n",
      " ormalization)                                                                                    \n",
      "                                                                                                  \n",
      " block5_sepconv3_act (Activ  (None, 19, 19, 728)          0         ['block5_sepconv2_bn[0][0]']  \n",
      " ation)                                                                                           \n",
      "                                                                                                  \n",
      " block5_sepconv3 (Separable  (None, 19, 19, 728)          536536    ['block5_sepconv3_act[0][0]'] \n",
      " Conv2D)                                                                                          \n",
      "                                                                                                  \n",
      " block5_sepconv3_bn (BatchN  (None, 19, 19, 728)          2912      ['block5_sepconv3[0][0]']     \n",
      " ormalization)                                                                                    \n",
      "                                                                                                  \n",
      " add_3 (Add)                 (None, 19, 19, 728)          0         ['block5_sepconv3_bn[0][0]',  \n",
      "                                                                     'add_2[0][0]']               \n",
      "                                                                                                  \n",
      " block6_sepconv1_act (Activ  (None, 19, 19, 728)          0         ['add_3[0][0]']               \n",
      " ation)                                                                                           \n",
      "                                                                                                  \n",
      " block6_sepconv1 (Separable  (None, 19, 19, 728)          536536    ['block6_sepconv1_act[0][0]'] \n",
      " Conv2D)                                                                                          \n",
      "                                                                                                  \n",
      " block6_sepconv1_bn (BatchN  (None, 19, 19, 728)          2912      ['block6_sepconv1[0][0]']     \n",
      " ormalization)                                                                                    \n",
      "                                                                                                  \n",
      " block6_sepconv2_act (Activ  (None, 19, 19, 728)          0         ['block6_sepconv1_bn[0][0]']  \n",
      " ation)                                                                                           \n",
      "                                                                                                  \n",
      " block6_sepconv2 (Separable  (None, 19, 19, 728)          536536    ['block6_sepconv2_act[0][0]'] \n",
      " Conv2D)                                                                                          \n",
      "                                                                                                  \n",
      " block6_sepconv2_bn (BatchN  (None, 19, 19, 728)          2912      ['block6_sepconv2[0][0]']     \n",
      " ormalization)                                                                                    \n",
      "                                                                                                  \n",
      " block6_sepconv3_act (Activ  (None, 19, 19, 728)          0         ['block6_sepconv2_bn[0][0]']  \n",
      " ation)                                                                                           \n",
      "                                                                                                  \n",
      " block6_sepconv3 (Separable  (None, 19, 19, 728)          536536    ['block6_sepconv3_act[0][0]'] \n",
      " Conv2D)                                                                                          \n",
      "                                                                                                  \n",
      " block6_sepconv3_bn (BatchN  (None, 19, 19, 728)          2912      ['block6_sepconv3[0][0]']     \n",
      " ormalization)                                                                                    \n",
      "                                                                                                  \n",
      " add_4 (Add)                 (None, 19, 19, 728)          0         ['block6_sepconv3_bn[0][0]',  \n",
      "                                                                     'add_3[0][0]']               \n",
      "                                                                                                  \n"
     ]
    },
    {
     "name": "stdout",
     "output_type": "stream",
     "text": [
      " block7_sepconv1_act (Activ  (None, 19, 19, 728)          0         ['add_4[0][0]']               \n",
      " ation)                                                                                           \n",
      "                                                                                                  \n",
      " block7_sepconv1 (Separable  (None, 19, 19, 728)          536536    ['block7_sepconv1_act[0][0]'] \n",
      " Conv2D)                                                                                          \n",
      "                                                                                                  \n",
      " block7_sepconv1_bn (BatchN  (None, 19, 19, 728)          2912      ['block7_sepconv1[0][0]']     \n",
      " ormalization)                                                                                    \n",
      "                                                                                                  \n",
      " block7_sepconv2_act (Activ  (None, 19, 19, 728)          0         ['block7_sepconv1_bn[0][0]']  \n",
      " ation)                                                                                           \n",
      "                                                                                                  \n",
      " block7_sepconv2 (Separable  (None, 19, 19, 728)          536536    ['block7_sepconv2_act[0][0]'] \n",
      " Conv2D)                                                                                          \n",
      "                                                                                                  \n",
      " block7_sepconv2_bn (BatchN  (None, 19, 19, 728)          2912      ['block7_sepconv2[0][0]']     \n",
      " ormalization)                                                                                    \n",
      "                                                                                                  \n",
      " block7_sepconv3_act (Activ  (None, 19, 19, 728)          0         ['block7_sepconv2_bn[0][0]']  \n",
      " ation)                                                                                           \n",
      "                                                                                                  \n",
      " block7_sepconv3 (Separable  (None, 19, 19, 728)          536536    ['block7_sepconv3_act[0][0]'] \n",
      " Conv2D)                                                                                          \n",
      "                                                                                                  \n",
      " block7_sepconv3_bn (BatchN  (None, 19, 19, 728)          2912      ['block7_sepconv3[0][0]']     \n",
      " ormalization)                                                                                    \n",
      "                                                                                                  \n",
      " add_5 (Add)                 (None, 19, 19, 728)          0         ['block7_sepconv3_bn[0][0]',  \n",
      "                                                                     'add_4[0][0]']               \n",
      "                                                                                                  \n",
      " block8_sepconv1_act (Activ  (None, 19, 19, 728)          0         ['add_5[0][0]']               \n",
      " ation)                                                                                           \n",
      "                                                                                                  \n",
      " block8_sepconv1 (Separable  (None, 19, 19, 728)          536536    ['block8_sepconv1_act[0][0]'] \n",
      " Conv2D)                                                                                          \n",
      "                                                                                                  \n",
      " block8_sepconv1_bn (BatchN  (None, 19, 19, 728)          2912      ['block8_sepconv1[0][0]']     \n",
      " ormalization)                                                                                    \n",
      "                                                                                                  \n",
      " block8_sepconv2_act (Activ  (None, 19, 19, 728)          0         ['block8_sepconv1_bn[0][0]']  \n",
      " ation)                                                                                           \n",
      "                                                                                                  \n",
      " block8_sepconv2 (Separable  (None, 19, 19, 728)          536536    ['block8_sepconv2_act[0][0]'] \n",
      " Conv2D)                                                                                          \n",
      "                                                                                                  \n",
      " block8_sepconv2_bn (BatchN  (None, 19, 19, 728)          2912      ['block8_sepconv2[0][0]']     \n",
      " ormalization)                                                                                    \n",
      "                                                                                                  \n",
      " block8_sepconv3_act (Activ  (None, 19, 19, 728)          0         ['block8_sepconv2_bn[0][0]']  \n",
      " ation)                                                                                           \n",
      "                                                                                                  \n",
      " block8_sepconv3 (Separable  (None, 19, 19, 728)          536536    ['block8_sepconv3_act[0][0]'] \n",
      " Conv2D)                                                                                          \n",
      "                                                                                                  \n",
      " block8_sepconv3_bn (BatchN  (None, 19, 19, 728)          2912      ['block8_sepconv3[0][0]']     \n",
      " ormalization)                                                                                    \n",
      "                                                                                                  \n",
      " add_6 (Add)                 (None, 19, 19, 728)          0         ['block8_sepconv3_bn[0][0]',  \n",
      "                                                                     'add_5[0][0]']               \n",
      "                                                                                                  \n",
      " block9_sepconv1_act (Activ  (None, 19, 19, 728)          0         ['add_6[0][0]']               \n",
      " ation)                                                                                           \n",
      "                                                                                                  \n",
      " block9_sepconv1 (Separable  (None, 19, 19, 728)          536536    ['block9_sepconv1_act[0][0]'] \n",
      " Conv2D)                                                                                          \n",
      "                                                                                                  \n",
      " block9_sepconv1_bn (BatchN  (None, 19, 19, 728)          2912      ['block9_sepconv1[0][0]']     \n",
      " ormalization)                                                                                    \n",
      "                                                                                                  \n",
      " block9_sepconv2_act (Activ  (None, 19, 19, 728)          0         ['block9_sepconv1_bn[0][0]']  \n",
      " ation)                                                                                           \n",
      "                                                                                                  \n",
      " block9_sepconv2 (Separable  (None, 19, 19, 728)          536536    ['block9_sepconv2_act[0][0]'] \n",
      " Conv2D)                                                                                          \n",
      "                                                                                                  \n",
      " block9_sepconv2_bn (BatchN  (None, 19, 19, 728)          2912      ['block9_sepconv2[0][0]']     \n",
      " ormalization)                                                                                    \n",
      "                                                                                                  \n",
      " block9_sepconv3_act (Activ  (None, 19, 19, 728)          0         ['block9_sepconv2_bn[0][0]']  \n",
      " ation)                                                                                           \n",
      "                                                                                                  \n",
      " block9_sepconv3 (Separable  (None, 19, 19, 728)          536536    ['block9_sepconv3_act[0][0]'] \n",
      " Conv2D)                                                                                          \n"
     ]
    },
    {
     "name": "stdout",
     "output_type": "stream",
     "text": [
      "                                                                                                  \n",
      " block9_sepconv3_bn (BatchN  (None, 19, 19, 728)          2912      ['block9_sepconv3[0][0]']     \n",
      " ormalization)                                                                                    \n",
      "                                                                                                  \n",
      " add_7 (Add)                 (None, 19, 19, 728)          0         ['block9_sepconv3_bn[0][0]',  \n",
      "                                                                     'add_6[0][0]']               \n",
      "                                                                                                  \n",
      " block10_sepconv1_act (Acti  (None, 19, 19, 728)          0         ['add_7[0][0]']               \n",
      " vation)                                                                                          \n",
      "                                                                                                  \n",
      " block10_sepconv1 (Separabl  (None, 19, 19, 728)          536536    ['block10_sepconv1_act[0][0]']\n",
      " eConv2D)                                                                                         \n",
      "                                                                                                  \n",
      " block10_sepconv1_bn (Batch  (None, 19, 19, 728)          2912      ['block10_sepconv1[0][0]']    \n",
      " Normalization)                                                                                   \n",
      "                                                                                                  \n",
      " block10_sepconv2_act (Acti  (None, 19, 19, 728)          0         ['block10_sepconv1_bn[0][0]'] \n",
      " vation)                                                                                          \n",
      "                                                                                                  \n",
      " block10_sepconv2 (Separabl  (None, 19, 19, 728)          536536    ['block10_sepconv2_act[0][0]']\n",
      " eConv2D)                                                                                         \n",
      "                                                                                                  \n",
      " block10_sepconv2_bn (Batch  (None, 19, 19, 728)          2912      ['block10_sepconv2[0][0]']    \n",
      " Normalization)                                                                                   \n",
      "                                                                                                  \n",
      " block10_sepconv3_act (Acti  (None, 19, 19, 728)          0         ['block10_sepconv2_bn[0][0]'] \n",
      " vation)                                                                                          \n",
      "                                                                                                  \n",
      " block10_sepconv3 (Separabl  (None, 19, 19, 728)          536536    ['block10_sepconv3_act[0][0]']\n",
      " eConv2D)                                                                                         \n",
      "                                                                                                  \n",
      " block10_sepconv3_bn (Batch  (None, 19, 19, 728)          2912      ['block10_sepconv3[0][0]']    \n",
      " Normalization)                                                                                   \n",
      "                                                                                                  \n",
      " add_8 (Add)                 (None, 19, 19, 728)          0         ['block10_sepconv3_bn[0][0]', \n",
      "                                                                     'add_7[0][0]']               \n",
      "                                                                                                  \n",
      " block11_sepconv1_act (Acti  (None, 19, 19, 728)          0         ['add_8[0][0]']               \n",
      " vation)                                                                                          \n",
      "                                                                                                  \n",
      " block11_sepconv1 (Separabl  (None, 19, 19, 728)          536536    ['block11_sepconv1_act[0][0]']\n",
      " eConv2D)                                                                                         \n",
      "                                                                                                  \n",
      " block11_sepconv1_bn (Batch  (None, 19, 19, 728)          2912      ['block11_sepconv1[0][0]']    \n",
      " Normalization)                                                                                   \n",
      "                                                                                                  \n",
      " block11_sepconv2_act (Acti  (None, 19, 19, 728)          0         ['block11_sepconv1_bn[0][0]'] \n",
      " vation)                                                                                          \n",
      "                                                                                                  \n",
      " block11_sepconv2 (Separabl  (None, 19, 19, 728)          536536    ['block11_sepconv2_act[0][0]']\n",
      " eConv2D)                                                                                         \n",
      "                                                                                                  \n",
      " block11_sepconv2_bn (Batch  (None, 19, 19, 728)          2912      ['block11_sepconv2[0][0]']    \n",
      " Normalization)                                                                                   \n",
      "                                                                                                  \n",
      " block11_sepconv3_act (Acti  (None, 19, 19, 728)          0         ['block11_sepconv2_bn[0][0]'] \n",
      " vation)                                                                                          \n",
      "                                                                                                  \n",
      " block11_sepconv3 (Separabl  (None, 19, 19, 728)          536536    ['block11_sepconv3_act[0][0]']\n",
      " eConv2D)                                                                                         \n",
      "                                                                                                  \n",
      " block11_sepconv3_bn (Batch  (None, 19, 19, 728)          2912      ['block11_sepconv3[0][0]']    \n",
      " Normalization)                                                                                   \n",
      "                                                                                                  \n",
      " add_9 (Add)                 (None, 19, 19, 728)          0         ['block11_sepconv3_bn[0][0]', \n",
      "                                                                     'add_8[0][0]']               \n",
      "                                                                                                  \n",
      " block12_sepconv1_act (Acti  (None, 19, 19, 728)          0         ['add_9[0][0]']               \n",
      " vation)                                                                                          \n",
      "                                                                                                  \n",
      " block12_sepconv1 (Separabl  (None, 19, 19, 728)          536536    ['block12_sepconv1_act[0][0]']\n",
      " eConv2D)                                                                                         \n",
      "                                                                                                  \n",
      " block12_sepconv1_bn (Batch  (None, 19, 19, 728)          2912      ['block12_sepconv1[0][0]']    \n",
      " Normalization)                                                                                   \n",
      "                                                                                                  \n",
      " block12_sepconv2_act (Acti  (None, 19, 19, 728)          0         ['block12_sepconv1_bn[0][0]'] \n",
      " vation)                                                                                          \n",
      "                                                                                                  \n",
      " block12_sepconv2 (Separabl  (None, 19, 19, 728)          536536    ['block12_sepconv2_act[0][0]']\n",
      " eConv2D)                                                                                         \n",
      "                                                                                                  \n",
      " block12_sepconv2_bn (Batch  (None, 19, 19, 728)          2912      ['block12_sepconv2[0][0]']    \n"
     ]
    },
    {
     "name": "stdout",
     "output_type": "stream",
     "text": [
      " Normalization)                                                                                   \n",
      "                                                                                                  \n",
      " block12_sepconv3_act (Acti  (None, 19, 19, 728)          0         ['block12_sepconv2_bn[0][0]'] \n",
      " vation)                                                                                          \n",
      "                                                                                                  \n",
      " block12_sepconv3 (Separabl  (None, 19, 19, 728)          536536    ['block12_sepconv3_act[0][0]']\n",
      " eConv2D)                                                                                         \n",
      "                                                                                                  \n",
      " block12_sepconv3_bn (Batch  (None, 19, 19, 728)          2912      ['block12_sepconv3[0][0]']    \n",
      " Normalization)                                                                                   \n",
      "                                                                                                  \n",
      " add_10 (Add)                (None, 19, 19, 728)          0         ['block12_sepconv3_bn[0][0]', \n",
      "                                                                     'add_9[0][0]']               \n",
      "                                                                                                  \n",
      " block13_sepconv1_act (Acti  (None, 19, 19, 728)          0         ['add_10[0][0]']              \n",
      " vation)                                                                                          \n",
      "                                                                                                  \n",
      " block13_sepconv1 (Separabl  (None, 19, 19, 728)          536536    ['block13_sepconv1_act[0][0]']\n",
      " eConv2D)                                                                                         \n",
      "                                                                                                  \n",
      " block13_sepconv1_bn (Batch  (None, 19, 19, 728)          2912      ['block13_sepconv1[0][0]']    \n",
      " Normalization)                                                                                   \n",
      "                                                                                                  \n",
      " block13_sepconv2_act (Acti  (None, 19, 19, 728)          0         ['block13_sepconv1_bn[0][0]'] \n",
      " vation)                                                                                          \n",
      "                                                                                                  \n",
      " block13_sepconv2 (Separabl  (None, 19, 19, 1024)         752024    ['block13_sepconv2_act[0][0]']\n",
      " eConv2D)                                                                                         \n",
      "                                                                                                  \n",
      " block13_sepconv2_bn (Batch  (None, 19, 19, 1024)         4096      ['block13_sepconv2[0][0]']    \n",
      " Normalization)                                                                                   \n",
      "                                                                                                  \n",
      " conv2d_3 (Conv2D)           (None, 10, 10, 1024)         745472    ['add_10[0][0]']              \n",
      "                                                                                                  \n",
      " block13_pool (MaxPooling2D  (None, 10, 10, 1024)         0         ['block13_sepconv2_bn[0][0]'] \n",
      " )                                                                                                \n",
      "                                                                                                  \n",
      " batch_normalization_3 (Bat  (None, 10, 10, 1024)         4096      ['conv2d_3[0][0]']            \n",
      " chNormalization)                                                                                 \n",
      "                                                                                                  \n",
      " add_11 (Add)                (None, 10, 10, 1024)         0         ['block13_pool[0][0]',        \n",
      "                                                                     'batch_normalization_3[0][0]'\n",
      "                                                                    ]                             \n",
      "                                                                                                  \n",
      " block14_sepconv1 (Separabl  (None, 10, 10, 1536)         1582080   ['add_11[0][0]']              \n",
      " eConv2D)                                                                                         \n",
      "                                                                                                  \n",
      " block14_sepconv1_bn (Batch  (None, 10, 10, 1536)         6144      ['block14_sepconv1[0][0]']    \n",
      " Normalization)                                                                                   \n",
      "                                                                                                  \n",
      " block14_sepconv1_act (Acti  (None, 10, 10, 1536)         0         ['block14_sepconv1_bn[0][0]'] \n",
      " vation)                                                                                          \n",
      "                                                                                                  \n",
      " block14_sepconv2 (Separabl  (None, 10, 10, 2048)         3159552   ['block14_sepconv1_act[0][0]']\n",
      " eConv2D)                                                                                         \n",
      "                                                                                                  \n",
      " block14_sepconv2_bn (Batch  (None, 10, 10, 2048)         8192      ['block14_sepconv2[0][0]']    \n",
      " Normalization)                                                                                   \n",
      "                                                                                                  \n",
      " block14_sepconv2_act (Acti  (None, 10, 10, 2048)         0         ['block14_sepconv2_bn[0][0]'] \n",
      " vation)                                                                                          \n",
      "                                                                                                  \n",
      " avg_pool (GlobalAveragePoo  (None, 2048)                 0         ['block14_sepconv2_act[0][0]']\n",
      " ling2D)                                                                                          \n",
      "                                                                                                  \n",
      "==================================================================================================\n",
      "Total params: 20861480 (79.58 MB)\n",
      "Trainable params: 20806952 (79.37 MB)\n",
      "Non-trainable params: 54528 (213.00 KB)\n",
      "__________________________________________________________________________________________________\n",
      "None\n"
     ]
    }
   ],
   "source": [
    "# Load the Model\n",
    "model = Xception()\n",
    "\n",
    "# Restructure model\n",
    "model = Model(inputs = model.inputs , outputs = model.layers[-2].output)\n",
    "\n",
    "# Summerize\n",
    "print(model.summary())"
   ]
  },
  {
   "cell_type": "code",
   "execution_count": 4,
   "metadata": {
    "execution": {
     "iopub.execute_input": "2022-03-06T06:34:26.714171Z",
     "iopub.status.busy": "2022-03-06T06:34:26.713924Z",
     "iopub.status.idle": "2022-03-06T06:42:34.816462Z",
     "shell.execute_reply": "2022-03-06T06:42:34.815809Z",
     "shell.execute_reply.started": "2022-03-06T06:34:26.714138Z"
    }
   },
   "outputs": [
    {
     "data": {
      "application/vnd.jupyter.widget-view+json": {
       "model_id": "064f6a3644e94c64bc42d7c853059cbe",
       "version_major": 2,
       "version_minor": 0
      },
      "text/plain": [
       "  0%|          | 0/8091 [00:00<?, ?it/s]"
      ]
     },
     "metadata": {},
     "output_type": "display_data"
    }
   ],
   "source": [
    "# extract features from image\n",
    "features = {}\n",
    "directory = os.path.join(BASE_DIR, 'Images')\n",
    "\n",
    "for img_name in tqdm(os.listdir(directory)):\n",
    "    # load the image from file\n",
    "    img_path = directory + '/' + img_name\n",
    "    image = load_img(img_path, target_size=(299, 299))\n",
    "    # convert image pixels to numpy array\n",
    "    image = img_to_array(image)\n",
    "    # reshape data for model\n",
    "    image = image.reshape((1, image.shape[0], image.shape[1], image.shape[2]))\n",
    "    # preprocess image for Xception\n",
    "    image = preprocess_input(image)\n",
    "    # extract features\n",
    "    feature = model.predict(image, verbose=0)\n",
    "    # get image ID\n",
    "    image_id = img_name.split('.')[0]\n",
    "    # store feature\n",
    "    features[image_id] = feature"
   ]
  },
  {
   "cell_type": "code",
   "execution_count": 5,
   "metadata": {
    "execution": {
     "iopub.execute_input": "2022-03-06T06:42:34.819143Z",
     "iopub.status.busy": "2022-03-06T06:42:34.818823Z",
     "iopub.status.idle": "2022-03-06T06:42:35.148181Z",
     "shell.execute_reply": "2022-03-06T06:42:35.147422Z",
     "shell.execute_reply.started": "2022-03-06T06:42:34.819101Z"
    }
   },
   "outputs": [],
   "source": [
    "# store features in pickle\n",
    "pickle.dump(features, open(os.path.join(WORKING_DIR, 'features.pkl'), 'wb'))"
   ]
  },
  {
   "cell_type": "code",
   "execution_count": 6,
   "metadata": {
    "execution": {
     "iopub.execute_input": "2022-03-06T06:42:35.150092Z",
     "iopub.status.busy": "2022-03-06T06:42:35.149415Z",
     "iopub.status.idle": "2022-03-06T06:42:35.312615Z",
     "shell.execute_reply": "2022-03-06T06:42:35.311884Z",
     "shell.execute_reply.started": "2022-03-06T06:42:35.150052Z"
    }
   },
   "outputs": [],
   "source": [
    "# load features from pickle\n",
    "with open(os.path.join(WORKING_DIR, 'features.pkl'), 'rb') as f:\n",
    "    features = pickle.load(f)"
   ]
  },
  {
   "cell_type": "markdown",
   "metadata": {},
   "source": [
    "## Load the Captions Data"
   ]
  },
  {
   "cell_type": "code",
   "execution_count": 7,
   "metadata": {
    "execution": {
     "iopub.execute_input": "2022-03-06T06:42:35.315520Z",
     "iopub.status.busy": "2022-03-06T06:42:35.314779Z",
     "iopub.status.idle": "2022-03-06T06:42:35.378135Z",
     "shell.execute_reply": "2022-03-06T06:42:35.377462Z",
     "shell.execute_reply.started": "2022-03-06T06:42:35.315478Z"
    }
   },
   "outputs": [],
   "source": [
    "with open(os.path.join(BASE_DIR, 'captions.txt'), 'r') as f:\n",
    "    next(f)\n",
    "    captions_doc = f.read()"
   ]
  },
  {
   "cell_type": "code",
   "execution_count": 8,
   "metadata": {
    "execution": {
     "iopub.execute_input": "2022-03-06T06:42:35.379822Z",
     "iopub.status.busy": "2022-03-06T06:42:35.379546Z",
     "iopub.status.idle": "2022-03-06T06:42:35.520768Z",
     "shell.execute_reply": "2022-03-06T06:42:35.520076Z",
     "shell.execute_reply.started": "2022-03-06T06:42:35.379783Z"
    }
   },
   "outputs": [
    {
     "data": {
      "application/vnd.jupyter.widget-view+json": {
       "model_id": "bdb7806b418944349b191d8393174a1d",
       "version_major": 2,
       "version_minor": 0
      },
      "text/plain": [
       "  0%|          | 0/40456 [00:00<?, ?it/s]"
      ]
     },
     "metadata": {},
     "output_type": "display_data"
    }
   ],
   "source": [
    "# create mapping of image to captions\n",
    "mapping = {}\n",
    "# process lines\n",
    "for line in tqdm(captions_doc.split('\\n')):\n",
    "    # split the line by comma(,)\n",
    "    tokens = line.split(',')\n",
    "    if len(line) < 2:\n",
    "        continue\n",
    "    image_id, caption = tokens[0], tokens[1:]\n",
    "    # remove extension from image ID\n",
    "    image_id = image_id.split('.')[0]\n",
    "    # convert caption list to string\n",
    "    caption = \" \".join(caption)\n",
    "    # create list if needed\n",
    "    if image_id not in mapping:\n",
    "        mapping[image_id] = []\n",
    "    # store the caption\n",
    "    mapping[image_id].append(caption)"
   ]
  },
  {
   "cell_type": "code",
   "execution_count": 9,
   "metadata": {
    "execution": {
     "iopub.execute_input": "2022-03-06T06:42:35.522414Z",
     "iopub.status.busy": "2022-03-06T06:42:35.522031Z",
     "iopub.status.idle": "2022-03-06T06:42:35.530158Z",
     "shell.execute_reply": "2022-03-06T06:42:35.529170Z",
     "shell.execute_reply.started": "2022-03-06T06:42:35.522377Z"
    }
   },
   "outputs": [
    {
     "data": {
      "text/plain": [
       "8091"
      ]
     },
     "execution_count": 9,
     "metadata": {},
     "output_type": "execute_result"
    }
   ],
   "source": [
    "len(mapping)"
   ]
  },
  {
   "cell_type": "markdown",
   "metadata": {},
   "source": [
    "## Preprocess Text Data"
   ]
  },
  {
   "cell_type": "code",
   "execution_count": 10,
   "metadata": {
    "execution": {
     "iopub.execute_input": "2022-03-06T06:42:35.531789Z",
     "iopub.status.busy": "2022-03-06T06:42:35.531417Z",
     "iopub.status.idle": "2022-03-06T06:42:35.539936Z",
     "shell.execute_reply": "2022-03-06T06:42:35.539143Z",
     "shell.execute_reply.started": "2022-03-06T06:42:35.531753Z"
    }
   },
   "outputs": [],
   "source": [
    "def clean(mapping):\n",
    "    for key, captions in mapping.items():\n",
    "        for i in range(len(captions)):\n",
    "            # take one caption at a time\n",
    "            caption = captions[i]\n",
    "            # preprocessing steps\n",
    "            # convert to lowercase\n",
    "            caption = caption.lower()\n",
    "            # delete digits, special chars, etc., \n",
    "            caption = caption.replace('[^A-Za-z]', '')\n",
    "            # delete additional spaces\n",
    "            caption = caption.replace('\\s+', ' ')\n",
    "            # add start and end tags to the caption\n",
    "            caption = 'startseq ' + \" \".join([word for word in caption.split() if len(word)>1]) + ' endseq'\n",
    "            captions[i] = caption"
   ]
  },
  {
   "cell_type": "code",
   "execution_count": 11,
   "metadata": {
    "execution": {
     "iopub.execute_input": "2022-03-06T06:42:35.541972Z",
     "iopub.status.busy": "2022-03-06T06:42:35.541482Z",
     "iopub.status.idle": "2022-03-06T06:42:35.550972Z",
     "shell.execute_reply": "2022-03-06T06:42:35.549978Z",
     "shell.execute_reply.started": "2022-03-06T06:42:35.541937Z"
    }
   },
   "outputs": [
    {
     "data": {
      "text/plain": [
       "['A child in a pink dress is climbing up a set of stairs in an entry way .',\n",
       " 'A girl going into a wooden building .',\n",
       " 'A little girl climbing into a wooden playhouse .',\n",
       " 'A little girl climbing the stairs to her playhouse .',\n",
       " 'A little girl in a pink dress going into a wooden cabin .']"
      ]
     },
     "execution_count": 11,
     "metadata": {},
     "output_type": "execute_result"
    }
   ],
   "source": [
    "# before preprocess of text\n",
    "mapping['1000268201_693b08cb0e']"
   ]
  },
  {
   "cell_type": "code",
   "execution_count": 12,
   "metadata": {
    "execution": {
     "iopub.execute_input": "2022-03-06T06:42:35.553409Z",
     "iopub.status.busy": "2022-03-06T06:42:35.552825Z",
     "iopub.status.idle": "2022-03-06T06:42:35.692145Z",
     "shell.execute_reply": "2022-03-06T06:42:35.691520Z",
     "shell.execute_reply.started": "2022-03-06T06:42:35.553368Z"
    }
   },
   "outputs": [],
   "source": [
    "# preprocess the text\n",
    "clean(mapping)"
   ]
  },
  {
   "cell_type": "code",
   "execution_count": 13,
   "metadata": {
    "execution": {
     "iopub.execute_input": "2022-03-06T06:42:35.693654Z",
     "iopub.status.busy": "2022-03-06T06:42:35.693412Z",
     "iopub.status.idle": "2022-03-06T06:42:35.698691Z",
     "shell.execute_reply": "2022-03-06T06:42:35.697951Z",
     "shell.execute_reply.started": "2022-03-06T06:42:35.693623Z"
    }
   },
   "outputs": [
    {
     "data": {
      "text/plain": [
       "['startseq child in pink dress is climbing up set of stairs in an entry way endseq',\n",
       " 'startseq girl going into wooden building endseq',\n",
       " 'startseq little girl climbing into wooden playhouse endseq',\n",
       " 'startseq little girl climbing the stairs to her playhouse endseq',\n",
       " 'startseq little girl in pink dress going into wooden cabin endseq']"
      ]
     },
     "execution_count": 13,
     "metadata": {},
     "output_type": "execute_result"
    }
   ],
   "source": [
    "# after preprocess of text\n",
    "mapping['1000268201_693b08cb0e']"
   ]
  },
  {
   "cell_type": "code",
   "execution_count": 14,
   "metadata": {
    "execution": {
     "iopub.execute_input": "2022-03-06T06:42:35.703681Z",
     "iopub.status.busy": "2022-03-06T06:42:35.703176Z",
     "iopub.status.idle": "2022-03-06T06:42:35.716917Z",
     "shell.execute_reply": "2022-03-06T06:42:35.716311Z",
     "shell.execute_reply.started": "2022-03-06T06:42:35.703644Z"
    }
   },
   "outputs": [],
   "source": [
    "all_captions = []\n",
    "for key in mapping:\n",
    "    for caption in mapping[key]:\n",
    "        all_captions.append(caption)"
   ]
  },
  {
   "cell_type": "code",
   "execution_count": 15,
   "metadata": {
    "execution": {
     "iopub.execute_input": "2022-03-06T06:42:35.719878Z",
     "iopub.status.busy": "2022-03-06T06:42:35.719667Z",
     "iopub.status.idle": "2022-03-06T06:42:35.728236Z",
     "shell.execute_reply": "2022-03-06T06:42:35.727288Z",
     "shell.execute_reply.started": "2022-03-06T06:42:35.719843Z"
    }
   },
   "outputs": [
    {
     "data": {
      "text/plain": [
       "40455"
      ]
     },
     "execution_count": 15,
     "metadata": {},
     "output_type": "execute_result"
    }
   ],
   "source": [
    "len(all_captions)"
   ]
  },
  {
   "cell_type": "code",
   "execution_count": 16,
   "metadata": {
    "execution": {
     "iopub.execute_input": "2022-03-06T06:42:35.730327Z",
     "iopub.status.busy": "2022-03-06T06:42:35.730058Z",
     "iopub.status.idle": "2022-03-06T06:42:35.737755Z",
     "shell.execute_reply": "2022-03-06T06:42:35.736976Z",
     "shell.execute_reply.started": "2022-03-06T06:42:35.730295Z"
    }
   },
   "outputs": [
    {
     "data": {
      "text/plain": [
       "['startseq child in pink dress is climbing up set of stairs in an entry way endseq',\n",
       " 'startseq girl going into wooden building endseq',\n",
       " 'startseq little girl climbing into wooden playhouse endseq',\n",
       " 'startseq little girl climbing the stairs to her playhouse endseq',\n",
       " 'startseq little girl in pink dress going into wooden cabin endseq',\n",
       " 'startseq black dog and spotted dog are fighting endseq',\n",
       " 'startseq black dog and tri-colored dog playing with each other on the road endseq',\n",
       " 'startseq black dog and white dog with brown spots are staring at each other in the street endseq',\n",
       " 'startseq two dogs of different breeds looking at each other on the road endseq',\n",
       " 'startseq two dogs on pavement moving toward each other endseq']"
      ]
     },
     "execution_count": 16,
     "metadata": {},
     "output_type": "execute_result"
    }
   ],
   "source": [
    "all_captions[:10]"
   ]
  },
  {
   "cell_type": "code",
   "execution_count": 17,
   "metadata": {
    "execution": {
     "iopub.execute_input": "2022-03-06T06:42:35.739724Z",
     "iopub.status.busy": "2022-03-06T06:42:35.739327Z",
     "iopub.status.idle": "2022-03-06T06:42:36.355776Z",
     "shell.execute_reply": "2022-03-06T06:42:36.355062Z",
     "shell.execute_reply.started": "2022-03-06T06:42:35.739686Z"
    }
   },
   "outputs": [],
   "source": [
    "# tokenize the text\n",
    "tokenizer = Tokenizer()\n",
    "tokenizer.fit_on_texts(all_captions)\n",
    "vocab_size = len(tokenizer.word_index) + 1"
   ]
  },
  {
   "cell_type": "code",
   "execution_count": 18,
   "metadata": {
    "execution": {
     "iopub.execute_input": "2022-03-06T06:42:36.357418Z",
     "iopub.status.busy": "2022-03-06T06:42:36.357182Z",
     "iopub.status.idle": "2022-03-06T06:42:36.362429Z",
     "shell.execute_reply": "2022-03-06T06:42:36.361793Z",
     "shell.execute_reply.started": "2022-03-06T06:42:36.357385Z"
    }
   },
   "outputs": [
    {
     "data": {
      "text/plain": [
       "8485"
      ]
     },
     "execution_count": 18,
     "metadata": {},
     "output_type": "execute_result"
    }
   ],
   "source": [
    "vocab_size"
   ]
  },
  {
   "cell_type": "code",
   "execution_count": 19,
   "metadata": {
    "execution": {
     "iopub.execute_input": "2022-03-06T06:42:36.364347Z",
     "iopub.status.busy": "2022-03-06T06:42:36.363844Z",
     "iopub.status.idle": "2022-03-06T06:42:36.403655Z",
     "shell.execute_reply": "2022-03-06T06:42:36.402785Z",
     "shell.execute_reply.started": "2022-03-06T06:42:36.364309Z"
    }
   },
   "outputs": [
    {
     "data": {
      "text/plain": [
       "35"
      ]
     },
     "execution_count": 19,
     "metadata": {},
     "output_type": "execute_result"
    }
   ],
   "source": [
    "# get maximum length of the caption available\n",
    "max_length = max(len(caption.split()) for caption in all_captions)\n",
    "max_length"
   ]
  },
  {
   "cell_type": "markdown",
   "metadata": {},
   "source": [
    "## Train Test Split"
   ]
  },
  {
   "cell_type": "code",
   "execution_count": 20,
   "metadata": {
    "execution": {
     "iopub.execute_input": "2022-03-06T06:42:36.406025Z",
     "iopub.status.busy": "2022-03-06T06:42:36.405019Z",
     "iopub.status.idle": "2022-03-06T06:42:36.411229Z",
     "shell.execute_reply": "2022-03-06T06:42:36.410251Z",
     "shell.execute_reply.started": "2022-03-06T06:42:36.405987Z"
    }
   },
   "outputs": [],
   "source": [
    "image_ids = list(mapping.keys())\n",
    "split = int(len(image_ids) * 0.90)\n",
    "train = image_ids[:split]\n",
    "test = image_ids[split:]"
   ]
  },
  {
   "cell_type": "code",
   "execution_count": 21,
   "metadata": {
    "execution": {
     "iopub.execute_input": "2022-03-06T06:42:36.413094Z",
     "iopub.status.busy": "2022-03-06T06:42:36.412818Z",
     "iopub.status.idle": "2022-03-06T06:42:36.420669Z",
     "shell.execute_reply": "2022-03-06T06:42:36.419873Z",
     "shell.execute_reply.started": "2022-03-06T06:42:36.413060Z"
    }
   },
   "outputs": [],
   "source": [
    "# startseq girl going into wooden building endseq\n",
    "#        X                   y\n",
    "# startseq                   girl\n",
    "# startseq girl              going\n",
    "# startseq girl going        into\n",
    "# ...........\n",
    "# startseq girl going into wooden building      endseq"
   ]
  },
  {
   "cell_type": "code",
   "execution_count": 22,
   "metadata": {
    "execution": {
     "iopub.execute_input": "2022-03-06T06:42:36.422292Z",
     "iopub.status.busy": "2022-03-06T06:42:36.422033Z",
     "iopub.status.idle": "2022-03-06T06:42:36.434535Z",
     "shell.execute_reply": "2022-03-06T06:42:36.433711Z",
     "shell.execute_reply.started": "2022-03-06T06:42:36.422261Z"
    }
   },
   "outputs": [],
   "source": [
    "# create data generator to get data in batch\n",
    "def data_generator(data_keys, mapping, features, tokenizer, max_length, vocab_size, batch_size):\n",
    "    # loop over images\n",
    "    X1, X2, y = list(), list(), list()\n",
    "    n = 0\n",
    "    while 1:\n",
    "        for key in data_keys:\n",
    "            n += 1\n",
    "            captions = mapping[key]\n",
    "            # process each caption\n",
    "            for caption in captions:\n",
    "                # encode the sequence\n",
    "                seq = tokenizer.texts_to_sequences([caption])[0]\n",
    "                # split the sequence into X, y pairs\n",
    "                for i in range(1, len(seq)):\n",
    "                    # split into input and output pairs\n",
    "                    in_seq, out_seq = seq[:i], seq[i]\n",
    "                    # pad input sequence\n",
    "                    in_seq = pad_sequences([in_seq], maxlen=max_length)[0]\n",
    "                    # encode output sequence\n",
    "                    out_seq = to_categorical([out_seq], num_classes=vocab_size)[0]\n",
    "                    \n",
    "                    # store the sequences\n",
    "                    X1.append(features[key][0])\n",
    "                    X2.append(in_seq)\n",
    "                    y.append(out_seq)\n",
    "            if n == batch_size:\n",
    "                X1, X2, y = np.array(X1), np.array(X2), np.array(y)\n",
    "                yield [X1, X2], y\n",
    "                X1, X2, y = list(), list(), list()\n",
    "                n = 0"
   ]
  },
  {
   "cell_type": "markdown",
   "metadata": {},
   "source": [
    "## Model Creation"
   ]
  },
  {
   "cell_type": "code",
   "execution_count": 23,
   "metadata": {
    "execution": {
     "iopub.execute_input": "2022-03-06T06:42:36.435949Z",
     "iopub.status.busy": "2022-03-06T06:42:36.435684Z",
     "iopub.status.idle": "2022-03-06T06:42:38.472355Z",
     "shell.execute_reply": "2022-03-06T06:42:38.469216Z",
     "shell.execute_reply.started": "2022-03-06T06:42:36.435912Z"
    },
    "scrolled": true
   },
   "outputs": [
    {
     "data": {
      "image/png": "[encoded data removed]",
      "text/plain": [
       "<IPython.core.display.Image object>"
      ]
     },
     "execution_count": 23,
     "metadata": {},
     "output_type": "execute_result"
    }
   ],
   "source": [
    "# encoder model\n",
    "# image feature layers\n",
    "inputs1 = Input(shape=(2048,))\n",
    "fe1 = Dropout(0.4)(inputs1)\n",
    "fe2 = Dense(256, activation='relu')(fe1)\n",
    "# sequence feature layers\n",
    "inputs2 = Input(shape=(max_length,))\n",
    "se1 = Embedding(vocab_size, 256, mask_zero=True)(inputs2)\n",
    "se2 = Dropout(0.4)(se1)\n",
    "se3 = LSTM(256)(se2)\n",
    "\n",
    "# decoder model\n",
    "decoder1 = add([fe2, se3])\n",
    "decoder2 = Dense(256, activation='relu')(decoder1)\n",
    "outputs = Dense(vocab_size, activation='softmax')(decoder2)+\n",
    "\n",
    "\n",
    "model = Model(inputs=[inputs1, inputs2], outputs=outputs)\n",
    "model.compile(loss='categorical_crossentropy', optimizer='adam')\n",
    "\n",
    "# plot the model\n",
    "plot_model(model, show_shapes=True)"
   ]
  },
  {
   "cell_type": "code",
   "execution_count": 37,
   "metadata": {
    "execution": {
     "iopub.execute_input": "2022-03-06T06:42:38.474530Z",
     "iopub.status.busy": "2022-03-06T06:42:38.474040Z",
     "iopub.status.idle": "2022-03-06T07:06:15.926491Z",
     "shell.execute_reply": "2022-03-06T07:06:15.925776Z",
     "shell.execute_reply.started": "2022-03-06T06:42:38.474487Z"
    }
   },
   "outputs": [
    {
     "name": "stdout",
     "output_type": "stream",
     "text": [
      "227/227 [==============================] - 160s 689ms/step - loss: 1.7359\n",
      "227/227 [==============================] - 176s 774ms/step - loss: 1.7259\n",
      "227/227 [==============================] - 141s 622ms/step - loss: 1.7136\n",
      "227/227 [==============================] - 148s 652ms/step - loss: 1.7033\n",
      "227/227 [==============================] - 140s 618ms/step - loss: 1.6919\n",
      "227/227 [==============================] - 154s 680ms/step - loss: 1.6837\n",
      "227/227 [==============================] - 321s 1s/step - loss: 1.6738\n",
      "227/227 [==============================] - 321s 1s/step - loss: 1.6626\n",
      "227/227 [==============================] - 324s 1s/step - loss: 1.6554\n",
      "227/227 [==============================] - 331s 1s/step - loss: 1.6421\n",
      "227/227 [==============================] - 329s 1s/step - loss: 1.6358\n",
      "227/227 [==============================] - 328s 1s/step - loss: 1.6277\n",
      "227/227 [==============================] - 335s 1s/step - loss: 1.6211\n",
      "227/227 [==============================] - 341s 2s/step - loss: 1.6130\n",
      "227/227 [==============================] - 336s 1s/step - loss: 1.6037\n",
      "227/227 [==============================] - 372s 2s/step - loss: 1.5963\n",
      "227/227 [==============================] - 415s 2s/step - loss: 1.5869\n",
      "227/227 [==============================] - 432s 2s/step - loss: 1.5799\n",
      "227/227 [==============================] - 450s 2s/step - loss: 1.5742\n",
      "227/227 [==============================] - 409s 2s/step - loss: 1.5682\n",
      "227/227 [==============================] - 378s 2s/step - loss: 1.5609\n",
      "227/227 [==============================] - 331s 1s/step - loss: 1.5535\n",
      "227/227 [==============================] - 306s 1s/step - loss: 1.5458\n",
      "227/227 [==============================] - 286s 1s/step - loss: 1.5407\n",
      "227/227 [==============================] - 275s 1s/step - loss: 1.5362\n",
      "227/227 [==============================] - 277s 1s/step - loss: 1.5300\n",
      "227/227 [==============================] - 278s 1s/step - loss: 1.5236\n",
      "179/227 [======================>.......] - ETA: 59s - loss: 1.5137 "
     ]
    },
    {
     "ename": "KeyboardInterrupt",
     "evalue": "",
     "output_type": "error",
     "traceback": [
      "\u001b[0;31m---------------------------------------------------------------------------\u001b[0m",
      "\u001b[0;31mKeyboardInterrupt\u001b[0m                         Traceback (most recent call last)",
      "\u001b[0;32m<ipython-input-37-4c9fa026760e>\u001b[0m in \u001b[0;36m<module>\u001b[0;34m\u001b[0m\n\u001b[1;32m      8\u001b[0m     \u001b[0mgenerator\u001b[0m \u001b[0;34m=\u001b[0m \u001b[0mdata_generator\u001b[0m\u001b[0;34m(\u001b[0m\u001b[0mtrain\u001b[0m\u001b[0;34m,\u001b[0m \u001b[0mmapping\u001b[0m\u001b[0;34m,\u001b[0m \u001b[0mfeatures\u001b[0m\u001b[0;34m,\u001b[0m \u001b[0mtokenizer\u001b[0m\u001b[0;34m,\u001b[0m \u001b[0mmax_length\u001b[0m\u001b[0;34m,\u001b[0m \u001b[0mvocab_size\u001b[0m\u001b[0;34m,\u001b[0m \u001b[0mbatch_size\u001b[0m\u001b[0;34m)\u001b[0m\u001b[0;34m\u001b[0m\u001b[0;34m\u001b[0m\u001b[0m\n\u001b[1;32m      9\u001b[0m     \u001b[0;31m# fit for one epoch\u001b[0m\u001b[0;34m\u001b[0m\u001b[0;34m\u001b[0m\u001b[0;34m\u001b[0m\u001b[0m\n\u001b[0;32m---> 10\u001b[0;31m     \u001b[0mmodel\u001b[0m\u001b[0;34m.\u001b[0m\u001b[0mfit\u001b[0m\u001b[0;34m(\u001b[0m\u001b[0mgenerator\u001b[0m\u001b[0;34m,\u001b[0m \u001b[0mepochs\u001b[0m\u001b[0;34m=\u001b[0m\u001b[0;36m1\u001b[0m\u001b[0;34m,\u001b[0m \u001b[0msteps_per_epoch\u001b[0m\u001b[0;34m=\u001b[0m\u001b[0msteps\u001b[0m\u001b[0;34m,\u001b[0m \u001b[0mverbose\u001b[0m\u001b[0;34m=\u001b[0m\u001b[0;36m1\u001b[0m\u001b[0;34m)\u001b[0m\u001b[0;34m\u001b[0m\u001b[0;34m\u001b[0m\u001b[0m\n\u001b[0m",
      "\u001b[0;32m~/.local/lib/python3.8/site-packages/keras/src/utils/traceback_utils.py\u001b[0m in \u001b[0;36merror_handler\u001b[0;34m(*args, **kwargs)\u001b[0m\n\u001b[1;32m     63\u001b[0m         \u001b[0mfiltered_tb\u001b[0m \u001b[0;34m=\u001b[0m \u001b[0;32mNone\u001b[0m\u001b[0;34m\u001b[0m\u001b[0;34m\u001b[0m\u001b[0m\n\u001b[1;32m     64\u001b[0m         \u001b[0;32mtry\u001b[0m\u001b[0;34m:\u001b[0m\u001b[0;34m\u001b[0m\u001b[0;34m\u001b[0m\u001b[0m\n\u001b[0;32m---> 65\u001b[0;31m             \u001b[0;32mreturn\u001b[0m \u001b[0mfn\u001b[0m\u001b[0;34m(\u001b[0m\u001b[0;34m*\u001b[0m\u001b[0margs\u001b[0m\u001b[0;34m,\u001b[0m \u001b[0;34m**\u001b[0m\u001b[0mkwargs\u001b[0m\u001b[0;34m)\u001b[0m\u001b[0;34m\u001b[0m\u001b[0;34m\u001b[0m\u001b[0m\n\u001b[0m\u001b[1;32m     66\u001b[0m         \u001b[0;32mexcept\u001b[0m \u001b[0mException\u001b[0m \u001b[0;32mas\u001b[0m \u001b[0me\u001b[0m\u001b[0;34m:\u001b[0m\u001b[0;34m\u001b[0m\u001b[0;34m\u001b[0m\u001b[0m\n\u001b[1;32m     67\u001b[0m             \u001b[0mfiltered_tb\u001b[0m \u001b[0;34m=\u001b[0m \u001b[0m_process_traceback_frames\u001b[0m\u001b[0;34m(\u001b[0m\u001b[0me\u001b[0m\u001b[0;34m.\u001b[0m\u001b[0m__traceback__\u001b[0m\u001b[0;34m)\u001b[0m\u001b[0;34m\u001b[0m\u001b[0;34m\u001b[0m\u001b[0m\n",
      "\u001b[0;32m~/.local/lib/python3.8/site-packages/keras/src/engine/training.py\u001b[0m in \u001b[0;36mfit\u001b[0;34m(self, x, y, batch_size, epochs, verbose, callbacks, validation_split, validation_data, shuffle, class_weight, sample_weight, initial_epoch, steps_per_epoch, validation_steps, validation_batch_size, validation_freq, max_queue_size, workers, use_multiprocessing)\u001b[0m\n\u001b[1;32m   1740\u001b[0m                         ):\n\u001b[1;32m   1741\u001b[0m                             \u001b[0mcallbacks\u001b[0m\u001b[0;34m.\u001b[0m\u001b[0mon_train_batch_begin\u001b[0m\u001b[0;34m(\u001b[0m\u001b[0mstep\u001b[0m\u001b[0;34m)\u001b[0m\u001b[0;34m\u001b[0m\u001b[0;34m\u001b[0m\u001b[0m\n\u001b[0;32m-> 1742\u001b[0;31m                             \u001b[0mtmp_logs\u001b[0m \u001b[0;34m=\u001b[0m \u001b[0mself\u001b[0m\u001b[0;34m.\u001b[0m\u001b[0mtrain_function\u001b[0m\u001b[0;34m(\u001b[0m\u001b[0miterator\u001b[0m\u001b[0;34m)\u001b[0m\u001b[0;34m\u001b[0m\u001b[0;34m\u001b[0m\u001b[0m\n\u001b[0m\u001b[1;32m   1743\u001b[0m                             \u001b[0;32mif\u001b[0m \u001b[0mdata_handler\u001b[0m\u001b[0;34m.\u001b[0m\u001b[0mshould_sync\u001b[0m\u001b[0;34m:\u001b[0m\u001b[0;34m\u001b[0m\u001b[0;34m\u001b[0m\u001b[0m\n\u001b[1;32m   1744\u001b[0m                                 \u001b[0mcontext\u001b[0m\u001b[0;34m.\u001b[0m\u001b[0masync_wait\u001b[0m\u001b[0;34m(\u001b[0m\u001b[0;34m)\u001b[0m\u001b[0;34m\u001b[0m\u001b[0;34m\u001b[0m\u001b[0m\n",
      "\u001b[0;32m~/.local/lib/python3.8/site-packages/tensorflow/python/util/traceback_utils.py\u001b[0m in \u001b[0;36merror_handler\u001b[0;34m(*args, **kwargs)\u001b[0m\n\u001b[1;32m    148\u001b[0m     \u001b[0mfiltered_tb\u001b[0m \u001b[0;34m=\u001b[0m \u001b[0;32mNone\u001b[0m\u001b[0;34m\u001b[0m\u001b[0;34m\u001b[0m\u001b[0m\n\u001b[1;32m    149\u001b[0m     \u001b[0;32mtry\u001b[0m\u001b[0;34m:\u001b[0m\u001b[0;34m\u001b[0m\u001b[0;34m\u001b[0m\u001b[0m\n\u001b[0;32m--> 150\u001b[0;31m       \u001b[0;32mreturn\u001b[0m \u001b[0mfn\u001b[0m\u001b[0;34m(\u001b[0m\u001b[0;34m*\u001b[0m\u001b[0margs\u001b[0m\u001b[0;34m,\u001b[0m \u001b[0;34m**\u001b[0m\u001b[0mkwargs\u001b[0m\u001b[0;34m)\u001b[0m\u001b[0;34m\u001b[0m\u001b[0;34m\u001b[0m\u001b[0m\n\u001b[0m\u001b[1;32m    151\u001b[0m     \u001b[0;32mexcept\u001b[0m \u001b[0mException\u001b[0m \u001b[0;32mas\u001b[0m \u001b[0me\u001b[0m\u001b[0;34m:\u001b[0m\u001b[0;34m\u001b[0m\u001b[0;34m\u001b[0m\u001b[0m\n\u001b[1;32m    152\u001b[0m       \u001b[0mfiltered_tb\u001b[0m \u001b[0;34m=\u001b[0m \u001b[0m_process_traceback_frames\u001b[0m\u001b[0;34m(\u001b[0m\u001b[0me\u001b[0m\u001b[0;34m.\u001b[0m\u001b[0m__traceback__\u001b[0m\u001b[0;34m)\u001b[0m\u001b[0;34m\u001b[0m\u001b[0;34m\u001b[0m\u001b[0m\n",
      "\u001b[0;32m~/.local/lib/python3.8/site-packages/tensorflow/python/eager/polymorphic_function/polymorphic_function.py\u001b[0m in \u001b[0;36m__call__\u001b[0;34m(self, *args, **kwds)\u001b[0m\n\u001b[1;32m    823\u001b[0m \u001b[0;34m\u001b[0m\u001b[0m\n\u001b[1;32m    824\u001b[0m       \u001b[0;32mwith\u001b[0m \u001b[0mOptionalXlaContext\u001b[0m\u001b[0;34m(\u001b[0m\u001b[0mself\u001b[0m\u001b[0;34m.\u001b[0m\u001b[0m_jit_compile\u001b[0m\u001b[0;34m)\u001b[0m\u001b[0;34m:\u001b[0m\u001b[0;34m\u001b[0m\u001b[0;34m\u001b[0m\u001b[0m\n\u001b[0;32m--> 825\u001b[0;31m         \u001b[0mresult\u001b[0m \u001b[0;34m=\u001b[0m \u001b[0mself\u001b[0m\u001b[0;34m.\u001b[0m\u001b[0m_call\u001b[0m\u001b[0;34m(\u001b[0m\u001b[0;34m*\u001b[0m\u001b[0margs\u001b[0m\u001b[0;34m,\u001b[0m \u001b[0;34m**\u001b[0m\u001b[0mkwds\u001b[0m\u001b[0;34m)\u001b[0m\u001b[0;34m\u001b[0m\u001b[0;34m\u001b[0m\u001b[0m\n\u001b[0m\u001b[1;32m    826\u001b[0m \u001b[0;34m\u001b[0m\u001b[0m\n\u001b[1;32m    827\u001b[0m       \u001b[0mnew_tracing_count\u001b[0m \u001b[0;34m=\u001b[0m \u001b[0mself\u001b[0m\u001b[0;34m.\u001b[0m\u001b[0mexperimental_get_tracing_count\u001b[0m\u001b[0;34m(\u001b[0m\u001b[0;34m)\u001b[0m\u001b[0;34m\u001b[0m\u001b[0;34m\u001b[0m\u001b[0m\n",
      "\u001b[0;32m~/.local/lib/python3.8/site-packages/tensorflow/python/eager/polymorphic_function/polymorphic_function.py\u001b[0m in \u001b[0;36m_call\u001b[0;34m(self, *args, **kwds)\u001b[0m\n\u001b[1;32m    862\u001b[0m       \u001b[0;31m# In this case we have not created variables on the first call. So we can\u001b[0m\u001b[0;34m\u001b[0m\u001b[0;34m\u001b[0m\u001b[0;34m\u001b[0m\u001b[0m\n\u001b[1;32m    863\u001b[0m       \u001b[0;31m# run the first trace but we should fail if variables are created.\u001b[0m\u001b[0;34m\u001b[0m\u001b[0;34m\u001b[0m\u001b[0;34m\u001b[0m\u001b[0m\n\u001b[0;32m--> 864\u001b[0;31m       \u001b[0mresults\u001b[0m \u001b[0;34m=\u001b[0m \u001b[0mself\u001b[0m\u001b[0;34m.\u001b[0m\u001b[0m_variable_creation_fn\u001b[0m\u001b[0;34m(\u001b[0m\u001b[0;34m*\u001b[0m\u001b[0margs\u001b[0m\u001b[0;34m,\u001b[0m \u001b[0;34m**\u001b[0m\u001b[0mkwds\u001b[0m\u001b[0;34m)\u001b[0m\u001b[0;34m\u001b[0m\u001b[0;34m\u001b[0m\u001b[0m\n\u001b[0m\u001b[1;32m    865\u001b[0m       \u001b[0;32mif\u001b[0m \u001b[0mself\u001b[0m\u001b[0;34m.\u001b[0m\u001b[0m_created_variables\u001b[0m \u001b[0;32mand\u001b[0m \u001b[0;32mnot\u001b[0m \u001b[0mALLOW_DYNAMIC_VARIABLE_CREATION\u001b[0m\u001b[0;34m:\u001b[0m\u001b[0;34m\u001b[0m\u001b[0;34m\u001b[0m\u001b[0m\n\u001b[1;32m    866\u001b[0m         raise ValueError(\"Creating variables on a non-first call to a function\"\n",
      "\u001b[0;32m~/.local/lib/python3.8/site-packages/tensorflow/python/eager/polymorphic_function/tracing_compiler.py\u001b[0m in \u001b[0;36m__call__\u001b[0;34m(self, *args, **kwargs)\u001b[0m\n\u001b[1;32m    146\u001b[0m       (concrete_function,\n\u001b[1;32m    147\u001b[0m        filtered_flat_args) = self._maybe_define_function(args, kwargs)\n\u001b[0;32m--> 148\u001b[0;31m     return concrete_function._call_flat(\n\u001b[0m\u001b[1;32m    149\u001b[0m         filtered_flat_args, captured_inputs=concrete_function.captured_inputs)  # pylint: disable=protected-access\n\u001b[1;32m    150\u001b[0m \u001b[0;34m\u001b[0m\u001b[0m\n",
      "\u001b[0;32m~/.local/lib/python3.8/site-packages/tensorflow/python/eager/polymorphic_function/monomorphic_function.py\u001b[0m in \u001b[0;36m_call_flat\u001b[0;34m(self, args, captured_inputs)\u001b[0m\n\u001b[1;32m   1347\u001b[0m         and executing_eagerly):\n\u001b[1;32m   1348\u001b[0m       \u001b[0;31m# No tape is watching; skip to running the function.\u001b[0m\u001b[0;34m\u001b[0m\u001b[0;34m\u001b[0m\u001b[0;34m\u001b[0m\u001b[0m\n\u001b[0;32m-> 1349\u001b[0;31m       \u001b[0;32mreturn\u001b[0m \u001b[0mself\u001b[0m\u001b[0;34m.\u001b[0m\u001b[0m_build_call_outputs\u001b[0m\u001b[0;34m(\u001b[0m\u001b[0mself\u001b[0m\u001b[0;34m.\u001b[0m\u001b[0m_inference_function\u001b[0m\u001b[0;34m(\u001b[0m\u001b[0;34m*\u001b[0m\u001b[0margs\u001b[0m\u001b[0;34m)\u001b[0m\u001b[0;34m)\u001b[0m\u001b[0;34m\u001b[0m\u001b[0;34m\u001b[0m\u001b[0m\n\u001b[0m\u001b[1;32m   1350\u001b[0m     forward_backward = self._select_forward_and_backward_functions(\n\u001b[1;32m   1351\u001b[0m         \u001b[0margs\u001b[0m\u001b[0;34m,\u001b[0m\u001b[0;34m\u001b[0m\u001b[0;34m\u001b[0m\u001b[0m\n",
      "\u001b[0;32m~/.local/lib/python3.8/site-packages/tensorflow/python/eager/polymorphic_function/atomic_function.py\u001b[0m in \u001b[0;36m__call__\u001b[0;34m(self, *args)\u001b[0m\n\u001b[1;32m    194\u001b[0m         \u001b[0;32mwith\u001b[0m \u001b[0mrecord\u001b[0m\u001b[0;34m.\u001b[0m\u001b[0mstop_recording\u001b[0m\u001b[0;34m(\u001b[0m\u001b[0;34m)\u001b[0m\u001b[0;34m:\u001b[0m\u001b[0;34m\u001b[0m\u001b[0;34m\u001b[0m\u001b[0m\n\u001b[1;32m    195\u001b[0m           \u001b[0;32mif\u001b[0m \u001b[0mself\u001b[0m\u001b[0;34m.\u001b[0m\u001b[0m_bound_context\u001b[0m\u001b[0;34m.\u001b[0m\u001b[0mexecuting_eagerly\u001b[0m\u001b[0;34m(\u001b[0m\u001b[0;34m)\u001b[0m\u001b[0;34m:\u001b[0m\u001b[0;34m\u001b[0m\u001b[0;34m\u001b[0m\u001b[0m\n\u001b[0;32m--> 196\u001b[0;31m             outputs = self._bound_context.call_function(\n\u001b[0m\u001b[1;32m    197\u001b[0m                 \u001b[0mself\u001b[0m\u001b[0;34m.\u001b[0m\u001b[0mname\u001b[0m\u001b[0;34m,\u001b[0m\u001b[0;34m\u001b[0m\u001b[0;34m\u001b[0m\u001b[0m\n\u001b[1;32m    198\u001b[0m                 \u001b[0mlist\u001b[0m\u001b[0;34m(\u001b[0m\u001b[0margs\u001b[0m\u001b[0;34m)\u001b[0m\u001b[0;34m,\u001b[0m\u001b[0;34m\u001b[0m\u001b[0;34m\u001b[0m\u001b[0m\n",
      "\u001b[0;32m~/.local/lib/python3.8/site-packages/tensorflow/python/eager/context.py\u001b[0m in \u001b[0;36mcall_function\u001b[0;34m(self, name, tensor_inputs, num_outputs)\u001b[0m\n\u001b[1;32m   1455\u001b[0m     \u001b[0mcancellation_context\u001b[0m \u001b[0;34m=\u001b[0m \u001b[0mcancellation\u001b[0m\u001b[0;34m.\u001b[0m\u001b[0mcontext\u001b[0m\u001b[0;34m(\u001b[0m\u001b[0;34m)\u001b[0m\u001b[0;34m\u001b[0m\u001b[0;34m\u001b[0m\u001b[0m\n\u001b[1;32m   1456\u001b[0m     \u001b[0;32mif\u001b[0m \u001b[0mcancellation_context\u001b[0m \u001b[0;32mis\u001b[0m \u001b[0;32mNone\u001b[0m\u001b[0;34m:\u001b[0m\u001b[0;34m\u001b[0m\u001b[0;34m\u001b[0m\u001b[0m\n\u001b[0;32m-> 1457\u001b[0;31m       outputs = execute.execute(\n\u001b[0m\u001b[1;32m   1458\u001b[0m           \u001b[0mname\u001b[0m\u001b[0;34m.\u001b[0m\u001b[0mdecode\u001b[0m\u001b[0;34m(\u001b[0m\u001b[0;34m\"utf-8\"\u001b[0m\u001b[0;34m)\u001b[0m\u001b[0;34m,\u001b[0m\u001b[0;34m\u001b[0m\u001b[0;34m\u001b[0m\u001b[0m\n\u001b[1;32m   1459\u001b[0m           \u001b[0mnum_outputs\u001b[0m\u001b[0;34m=\u001b[0m\u001b[0mnum_outputs\u001b[0m\u001b[0;34m,\u001b[0m\u001b[0;34m\u001b[0m\u001b[0;34m\u001b[0m\u001b[0m\n",
      "\u001b[0;32m~/.local/lib/python3.8/site-packages/tensorflow/python/eager/execute.py\u001b[0m in \u001b[0;36mquick_execute\u001b[0;34m(op_name, num_outputs, inputs, attrs, ctx, name)\u001b[0m\n\u001b[1;32m     51\u001b[0m   \u001b[0;32mtry\u001b[0m\u001b[0;34m:\u001b[0m\u001b[0;34m\u001b[0m\u001b[0;34m\u001b[0m\u001b[0m\n\u001b[1;32m     52\u001b[0m     \u001b[0mctx\u001b[0m\u001b[0;34m.\u001b[0m\u001b[0mensure_initialized\u001b[0m\u001b[0;34m(\u001b[0m\u001b[0;34m)\u001b[0m\u001b[0;34m\u001b[0m\u001b[0;34m\u001b[0m\u001b[0m\n\u001b[0;32m---> 53\u001b[0;31m     tensors = pywrap_tfe.TFE_Py_Execute(ctx._handle, device_name, op_name,\n\u001b[0m\u001b[1;32m     54\u001b[0m                                         inputs, attrs, num_outputs)\n\u001b[1;32m     55\u001b[0m   \u001b[0;32mexcept\u001b[0m \u001b[0mcore\u001b[0m\u001b[0;34m.\u001b[0m\u001b[0m_NotOkStatusException\u001b[0m \u001b[0;32mas\u001b[0m \u001b[0me\u001b[0m\u001b[0;34m:\u001b[0m\u001b[0;34m\u001b[0m\u001b[0;34m\u001b[0m\u001b[0m\n",
      "\u001b[0;31mKeyboardInterrupt\u001b[0m: "
     ]
    }
   ],
   "source": [
    "\n",
    "\n",
    "# train the model\n",
    "epochs = 70\n",
    "batch_size = 32\n",
    "steps = len(train) // batch_size\n",
    "\n",
    "for i in range(epochs):\n",
    "    # create data generator\n",
    "    generator = data_generator(train, mapping, features, tokenizer, max_length, vocab_size, batch_size)\n",
    "    # fit for one epoch\n",
    "    model.fit(generator, epochs=1, steps_per_epoch=steps, verbose=1)\n"
   ]
  },
  {
   "cell_type": "code",
   "execution_count": null,
   "metadata": {
    "execution": {
     "iopub.execute_input": "2022-03-06T07:06:15.928220Z",
     "iopub.status.busy": "2022-03-06T07:06:15.927965Z",
     "iopub.status.idle": "2022-03-06T07:06:16.090583Z",
     "shell.execute_reply": "2022-03-06T07:06:16.088709Z",
     "shell.execute_reply.started": "2022-03-06T07:06:15.928186Z"
    }
   },
   "outputs": [],
   "source": [
    "# save the model\n",
    "model.save(WORKING_DIR+'/best_model.h5')"
   ]
  },
  {
   "cell_type": "markdown",
   "metadata": {},
   "source": [
    "## Generate Captions for the Image"
   ]
  },
  {
   "cell_type": "code",
   "execution_count": 38,
   "metadata": {},
   "outputs": [],
   "source": [
    "from tensorflow.keras.models import load_model\n",
    "\n",
    "# Specify the path to the saved model\n",
    "model_path = \"/home/sw900b2_arjun/final_project/best_model.h5\"\n",
    "\n",
    "# Load the model\n",
    "model = load_model(model_path)\n",
    "\n",
    "# You can now use the loaded_model for prediction or any other purposes\n"
   ]
  },
  {
   "cell_type": "code",
   "execution_count": 39,
   "metadata": {
    "execution": {
     "iopub.execute_input": "2022-03-06T07:06:16.093448Z",
     "iopub.status.busy": "2022-03-06T07:06:16.092736Z",
     "iopub.status.idle": "2022-03-06T07:06:16.100031Z",
     "shell.execute_reply": "2022-03-06T07:06:16.098267Z",
     "shell.execute_reply.started": "2022-03-06T07:06:16.093377Z"
    }
   },
   "outputs": [],
   "source": [
    "def idx_to_word(integer, tokenizer):\n",
    "    for word, index in tokenizer.word_index.items():\n",
    "        if index == integer:\n",
    "            return word\n",
    "    return None"
   ]
  },
  {
   "cell_type": "code",
   "execution_count": 40,
   "metadata": {
    "execution": {
     "iopub.execute_input": "2022-03-06T07:06:16.108028Z",
     "iopub.status.busy": "2022-03-06T07:06:16.102398Z",
     "iopub.status.idle": "2022-03-06T07:06:16.122532Z",
     "shell.execute_reply": "2022-03-06T07:06:16.121669Z",
     "shell.execute_reply.started": "2022-03-06T07:06:16.107982Z"
    }
   },
   "outputs": [],
   "source": [
    "# generate caption for an image\n",
    "def predict_caption(model, image, tokenizer, max_length):\n",
    "    # add start tag for generation process\n",
    "    in_text = 'startseq'\n",
    "    # iterate over the max length of sequence\n",
    "    for i in range(max_length):\n",
    "        # encode input sequence\n",
    "        sequence = tokenizer.texts_to_sequences([in_text])[0]\n",
    "        # pad the sequence\n",
    "        sequence = pad_sequences([sequence], max_length)\n",
    "        # predict next word\n",
    "        yhat = model.predict([image, sequence], verbose=0)\n",
    "        # get index with high probability\n",
    "        yhat = np.argmax(yhat)\n",
    "        # convert index to word\n",
    "        word = idx_to_word(yhat\n",
    "                           , tokenizer)\n",
    "        # stop if word not found\n",
    "        if word is None:\n",
    "            break\n",
    "        # append word as input for generating next word\n",
    "        in_text += \" \" + word\n",
    "        # stop if we reach end tag\n",
    "        if word == 'endseq':\n",
    "            break\n",
    "      \n",
    "    return in_text"
   ]
  },
  {
   "cell_type": "code",
   "execution_count": null,
   "metadata": {
    "execution": {
     "iopub.execute_input": "2022-03-06T07:06:16.124177Z",
     "iopub.status.busy": "2022-03-06T07:06:16.123749Z",
     "iopub.status.idle": "2022-03-06T07:12:27.075826Z",
     "shell.execute_reply": "2022-03-06T07:12:27.075089Z",
     "shell.execute_reply.started": "2022-03-06T07:06:16.124139Z"
    }
   },
   "outputs": [
    {
     "data": {
      "application/vnd.jupyter.widget-view+json": {
       "model_id": "414081eb39f54e99b1c182c850e0e6d1",
       "version_major": 2,
       "version_minor": 0
      },
      "text/plain": [
       "  0%|          | 0/810 [00:00<?, ?it/s]"
      ]
     },
     "metadata": {},
     "output_type": "display_data"
    }
   ],
   "source": [
    "\n",
    "from nltk.translate.bleu_score import corpus_bleu\n",
    "# validate with test data\n",
    "actual, predicted = list(), list()\n",
    "\n",
    "for key in tqdm(test):\n",
    "    # get actual caption\n",
    "    captions = mapping[key]\n",
    "    # predict the caption for image\n",
    "    y_pred = predict_caption(model, features[key], tokenizer, max_length) \n",
    "    # split into words\n",
    "    actual_captions = [caption.split() for caption in captions]\n",
    "    y_pred = y_pred.split()\n",
    "    # append to the list\n",
    "    actual.append(actual_captions)\n",
    "    predicted.append(y_pred)\n",
    "    \n",
    "# calcuate BLEU score\n",
    "print(\"BLEU-1: %f\" % corpus_bleu(actual, predicted, weights=(1.0, 0, 0, 0)))\n",
    "print(\"BLEU-2: %f\" % corpus_bleu(actual, predicted, weights=(0.5, 0.5, 0, 0)))\n",
    "\n",
    "\n"
   ]
  },
  {
   "cell_type": "markdown",
   "metadata": {},
   "source": [
    "## Visualize the Results"
   ]
  },
  {
   "cell_type": "code",
   "execution_count": 42,
   "metadata": {
    "execution": {
     "iopub.execute_input": "2022-03-06T07:12:27.077550Z",
     "iopub.status.busy": "2022-03-06T07:12:27.077132Z",
     "iopub.status.idle": "2022-03-06T07:12:27.084620Z",
     "shell.execute_reply": "2022-03-06T07:12:27.083943Z",
     "shell.execute_reply.started": "2022-03-06T07:12:27.077509Z"
    }
   },
   "outputs": [],
   "source": [
    "\n",
    "from PIL import Image\n",
    "import matplotlib.pyplot as plt\n",
    "def generate_caption(image_name):\n",
    "    # load the image\n",
    "    image_id = image_name.split('.')[0]\n",
    "    img_path = os.path.join(BASE_DIR, \"Images\", image_name)\n",
    "    image = Image.open(img_path)\n",
    "    captions = mapping[image_id]\n",
    "    y_pred = predict_caption(model, features[image_id], tokenizer, max_length)\n",
    "    print(y_pred)\n"
   ]
  },
  {
   "cell_type": "code",
   "execution_count": 48,
   "metadata": {},
   "outputs": [],
   "source": [
    "import tkinter as tk\n",
    "from tkinter import *\n",
    "from tkinter import filedialog\n",
    "from PIL import Image, ImageTk\n",
    "import time\n",
    "\n",
    "\n",
    "\n",
    "def upload_image():\n",
    "    filename = filedialog.askopenfilename(initialdir=\"/home/sw900b2_arjun/final_project/Images/\", title=\"Select Image\",\n",
    "                                           filetypes=((\"Image files\", \"*.jpg *.jpeg *.png *.gif\"), (\"All files\", \"*.*\")))\n",
    "    if filename:\n",
    "        img_id= filename.split(\"/\")[-1]\n",
    "        con1.set(img_id)\n",
    "        display_image(filename)\n",
    "\n",
    "def display_image(filename):\n",
    "    image = Image.open(filename)\n",
    "    image.thumbnail((500, 500)) \n",
    "    photo = ImageTk.PhotoImage(image)\n",
    "    image_label.config(image=photo)\n",
    "    image_label.image = photo\n",
    "\n",
    "from PIL import Image\n",
    "import matplotlib.pyplot as plt\n",
    "def generate_caption():\n",
    "    # load the image\n",
    "    image_name = con1.get()\n",
    "    image_id = image_name.split('.')[0]\n",
    "    img_path = os.path.join(BASE_DIR, \"Images\", image_name)\n",
    "    image = Image.open(img_path)\n",
    "    captions = mapping[image_id]\n",
    "    y_pred = predict_caption(model, features[image_id], tokenizer, max_length)\n",
    "    con2.set(y_pred)\n",
    "    \n",
    "    \n",
    "    def display_text():\n",
    "        msg = y_pred\n",
    "        for ch in msg:\n",
    "            label.config(text=label.cget(\"text\") + ch)\n",
    "            label.update()\n",
    "            time.sleep(0.3)\n",
    "    label = tk.Label(root, text=\"\")\n",
    "    label.grid(row=7,column=0,pady=10)\n",
    "    display_text()\n",
    "\n",
    "    \n",
    "    \n",
    "    \n",
    "\n",
    "# Main tkinter window\n",
    "root = tk.Tk()\n",
    "root.title(\"Image Caption Generator\")\n",
    "\n",
    "con1 = StringVar()\n",
    "con2 = StringVar()\n",
    "#imageid\n",
    "v1 = Entry(root, textvariable=con1)\n",
    "v2=tk.Label(root,text=\"Image_Name\")\n",
    "v1.grid(row=4, column=0, pady=10)\n",
    "v2.grid(row=3,column=0)\n",
    "\"\"\"\n",
    "#caption\n",
    "c1 = Entry(root, textvariable=con2)\n",
    "c2=tk.Label(root,text=\"Caption\")\n",
    "c1.grid(row=1, column=2, pady=10)\n",
    "c2.grid(row=1,column=1)\n",
    "\n",
    "\"\"\"\n",
    "\n",
    "# Upload Button\n",
    "upload_button = tk.Button(root, text=\"Upload Image\", command=upload_image)\n",
    "upload_button.grid(row=0, column=0, pady=10)\n",
    "\n",
    "# Image display\n",
    "image_label = tk.Label(root)\n",
    "image_label.grid(row=1, column=0)\n",
    "\n",
    "\n",
    "\n",
    "# Save Button\n",
    "save_button = tk.Button(root, text=\"Caption Generator\", command=lambda : generate_caption())\n",
    "save_button.grid(row=6, column=0, pady=5)\n",
    "\n",
    "root.mainloop()"
   ]
  },
  {
   "cell_type": "code",
   "execution_count": 39,
   "metadata": {
    "execution": {
     "iopub.execute_input": "2022-03-06T07:12:27.086378Z",
     "iopub.status.busy": "2022-03-06T07:12:27.085839Z",
     "iopub.status.idle": "2022-03-06T07:12:27.811836Z",
     "shell.execute_reply": "2022-03-06T07:12:27.811100Z",
     "shell.execute_reply.started": "2022-03-06T07:12:27.086340Z"
    }
   },
   "outputs": [
    {
     "name": "stdout",
     "output_type": "stream",
     "text": [
      "startseq two dogs playing with each other on the grass endseq\n"
     ]
    }
   ],
   "source": [
    "generate_caption(\"1001773457_577c3a7d70.jpg\")"
   ]
  },
  {
   "cell_type": "code",
   "execution_count": 45,
   "metadata": {
    "execution": {
     "iopub.execute_input": "2022-03-06T07:12:27.813391Z",
     "iopub.status.busy": "2022-03-06T07:12:27.812965Z",
     "iopub.status.idle": "2022-03-06T07:12:28.645372Z",
     "shell.execute_reply": "2022-03-06T07:12:28.644695Z",
     "shell.execute_reply.started": "2022-03-06T07:12:27.813352Z"
    }
   },
   "outputs": [
    {
     "name": "stdout",
     "output_type": "stream",
     "text": [
      "startseq girl in pink dress stands in front of colorful tent with fingerpaints in the background endseq\n"
     ]
    }
   ],
   "source": [
    "generate_caption(\"1002674143_1b742ab4b8.jpg\")"
   ]
  },
  {
   "cell_type": "code",
   "execution_count": 46,
   "metadata": {
    "execution": {
     "iopub.execute_input": "2022-03-06T07:12:28.647257Z",
     "iopub.status.busy": "2022-03-06T07:12:28.646519Z",
     "iopub.status.idle": "2022-03-06T07:12:29.247604Z",
     "shell.execute_reply": "2022-03-06T07:12:29.246938Z",
     "shell.execute_reply.started": "2022-03-06T07:12:28.647219Z"
    }
   },
   "outputs": [
    {
     "name": "stdout",
     "output_type": "stream",
     "text": [
      "startseq woman displaying skier on skis endseq\n"
     ]
    }
   ],
   "source": [
    "generate_caption(\"101669240_b2d3e7f17b.jpg\")"
   ]
  },
  {
   "cell_type": "markdown",
   "metadata": {},
   "source": [
    "## Test with Real Image"
   ]
  },
  {
   "cell_type": "code",
   "execution_count": null,
   "metadata": {
    "execution": {
     "iopub.execute_input": "2023-02-07T10:52:49.644967Z",
     "iopub.status.busy": "2023-02-07T10:52:49.644329Z",
     "iopub.status.idle": "2023-02-07T10:52:52.452913Z",
     "shell.execute_reply": "2023-02-07T10:52:52.452096Z",
     "shell.execute_reply.started": "2023-02-07T10:52:49.644930Z"
    }
   },
   "outputs": [],
   "source": []
  },
  {
   "cell_type": "code",
   "execution_count": null,
   "metadata": {
    "execution": {
     "iopub.execute_input": "2023-02-07T10:53:08.419042Z",
     "iopub.status.busy": "2023-02-07T10:53:08.418775Z",
     "iopub.status.idle": "2023-02-07T10:53:09.313035Z",
     "shell.execute_reply": "2023-02-07T10:53:09.312141Z",
     "shell.execute_reply.started": "2023-02-07T10:53:08.419012Z"
    }
   },
   "outputs": [],
   "source": []
  },
  {
   "cell_type": "code",
   "execution_count": null,
   "metadata": {},
   "outputs": [],
   "source": []
  },
  {
   "cell_type": "code",
   "execution_count": null,
   "metadata": {},
   "outputs": [],
   "source": []
  }
 ],
 "metadata": {
  "kernelspec": {
   "display_name": "Python 3",
   "language": "python",
   "name": "python3"
  },
  "language_info": {
   "codemirror_mode": {
    "name": "ipython",
    "version": 3
   },
   "file_extension": ".py",
   "mimetype": "text/x-python",
   "name": "python",
   "nbconvert_exporter": "python",
   "pygments_lexer": "ipython3",
   "version": "3.8.10"
  }
 },
 "nbformat": 4,
 "nbformat_minor": 4
}
